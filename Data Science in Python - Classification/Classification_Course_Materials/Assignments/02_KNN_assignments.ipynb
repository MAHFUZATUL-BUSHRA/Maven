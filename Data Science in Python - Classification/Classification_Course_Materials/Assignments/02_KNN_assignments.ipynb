{
 "cells": [
  {
   "cell_type": "markdown",
   "id": "67f0fdad",
   "metadata": {},
   "source": [
    "## Data Prep:\n",
    "\n",
    "1. Read in the data and apply your data prep function to it."
   ]
  },
  {
   "cell_type": "code",
   "execution_count": 2,
   "id": "e7b99178",
   "metadata": {},
   "outputs": [],
   "source": [
    "import pandas as pd\n",
    "import numpy as np"
   ]
  },
  {
   "cell_type": "code",
   "execution_count": 3,
   "id": "2b7a0840",
   "metadata": {},
   "outputs": [],
   "source": [
    "def income_model_prep(data):\n",
    "    from sklearn.model_selection import train_test_split\n",
    "    data = pd.get_dummies(\n",
    "        data.assign(\n",
    "            target = np.where(data[\"SalStat\"] == \" less than or equal to 50,000\", 0, 1),\n",
    "            nativecountry = data[\"nativecountry\"].replace({\" Holand-Netherlands\": \" Germany\"}),\n",
    "            occupation = data[\"occupation\"].replace({\" Armed-Forces\": \" ?\"}),\n",
    "            JobType = data[\"JobType\"].replace({\" Never-worked\": \" Without-pay\"}),\n",
    "        ).drop(\"SalStat\", axis=1), \n",
    "        drop_first=True\n",
    "    )\n",
    "    X = data.drop(\"target\", axis=1)\n",
    "    y = data[\"target\"]\n",
    "    X_train, X_test, y_train, y_test = train_test_split(X, y, test_size=0.2, random_state=0)\n",
    "    return X_train, X_test, y_train, y_test"
   ]
  },
  {
   "cell_type": "code",
   "execution_count": 4,
   "id": "5187336d",
   "metadata": {},
   "outputs": [],
   "source": [
    "income = pd.read_csv(\"../Data/income.csv\")\n",
    "\n",
    "X_train, X_test, y_train, y_test = income_model_prep(income)"
   ]
  },
  {
   "cell_type": "markdown",
   "id": "9b5e3cd5",
   "metadata": {},
   "source": [
    "## Assignment 1:\n",
    "\n",
    "1. Scale your feature data frames\n",
    "2. Fit a KNN model with k = 5, using the features `age` and `hoursperweek`\n",
    "3. Print the model accuracy score and confusion matrix for both the training and test data\n",
    "4. Using the test data, create a scatterplot with `age` in the x-axis, `hoursperweek` in the y-axis, and color each point with the predicted class."
   ]
  },
  {
   "cell_type": "code",
   "execution_count": 5,
   "id": "5cc44216",
   "metadata": {},
   "outputs": [],
   "source": []
  },
  {
   "cell_type": "markdown",
   "id": "c3555260",
   "metadata": {},
   "source": [
    "## Assignment 2: \n",
    "\n",
    "1. Fit a KNN with all features and k=5. Print train and test accuracy.\n",
    "2. Use GridSearchCV to find the optimal value for k, then print test accuracy and the confusion matrix."
   ]
  },
  {
   "cell_type": "code",
   "execution_count": 14,
   "id": "b0471a41",
   "metadata": {},
   "outputs": [],
   "source": []
  }
 ],
 "metadata": {
  "kernelspec": {
   "display_name": "Python 3 (ipykernel)",
   "language": "python",
   "name": "python3"
  },
  "language_info": {
   "codemirror_mode": {
    "name": "ipython",
    "version": 3
   },
   "file_extension": ".py",
   "mimetype": "text/x-python",
   "name": "python",
   "nbconvert_exporter": "python",
   "pygments_lexer": "ipython3",
   "version": "3.11.5"
  }
 },
 "nbformat": 4,
 "nbformat_minor": 5
}
